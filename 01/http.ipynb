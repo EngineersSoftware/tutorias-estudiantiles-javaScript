{
 "cells": [
  {
   "cell_type": "markdown",
   "id": "80cf6966",
   "metadata": {},
   "source": [
    "#  ¿Qué es un servidor HTTP?\n",
    "\n",
    "Un **servidor HTTP** es una aplicación que escucha solicitudes realizadas por clientes (como un navegador o una app móvil) y responde con contenido (HTML, JSON, archivos, etc.).\n",
    "\n",
    "Imagina que estás en un restaurante. Tú (el cliente) te sientas, pides algo al mesero (una solicitud), y luego el mesero te trae lo que pediste (una respuesta).\n",
    "\n",
    "## ¿Qué es HTTP?\n",
    "\n",
    "HTTP significa **HyperText Transfer Protocol**: es el lenguaje que usan los navegadores y servidores para **comunicarse por internet**.  \n",
    "Es un protocolo que define **cómo deben enviarse y recibirse los mensajes** entre cliente y servidor.\n",
    "\n",
    "> Cuando escribes una URL como `https://google.com`, estás haciendo una **solicitud HTTP** al servidor de Google.\n",
    "\n",
    "### Entonces... ¿qué es un servidor HTTP?\n",
    "\n",
    "Un **servidor HTTP** es simplemente un **programa que está “escuchando” solicitudes hechas por los clientes** (normalmente desde un navegador o aplicación) y que responde según lo que le pidan.\n",
    "\n",
    "### ¿Qué hace un servidor HTTP en Node.js?\n",
    "\n",
    "Cuando usamos Node.js para crear un servidor HTTP:\n",
    "\n",
    "1. Le decimos en qué **puerto** escuchar (por ejemplo, `localhost:3000`)\n",
    "2. Le enseñamos cómo **responder** a solicitudes:\n",
    "   - Si el usuario va a `/`, muestra un mensaje de bienvenida\n",
    "   - Si va a `/usuarios`, devuelve una lista de usuarios\n",
    "   - Si hace un `POST`, guarda datos, etc.\n",
    "\n",
    "### ¿Qué puede responder un servidor HTTP?\n",
    "\n",
    "Un servidor HTTP puede responder con:\n",
    "\n",
    "- Texto plano (`text/plain`)\n",
    "- Archivos HTML, CSS, JS\n",
    "- Archivos multimedia (imágenes, videos)\n",
    "- Datos en formato `application/json` (común para APIs)\n",
    "\n",
    "\n",
    "\n",
    "###  ¿Cómo funciona?\n",
    "\n",
    "1. El cliente envía una **solicitud HTTP** (por ejemplo, `GET /home`)\n",
    "2. El servidor recibe la solicitud y procesa lo pedido.\n",
    "3. El servidor devuelve una **respuesta HTTP** (por ejemplo, HTML, JSON o un archivo).\n",
    "\n"
   ]
  }
 ],
 "metadata": {
  "language_info": {
   "name": "python"
  }
 },
 "nbformat": 4,
 "nbformat_minor": 5
}
