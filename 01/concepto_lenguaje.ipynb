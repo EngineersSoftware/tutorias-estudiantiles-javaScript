{
 "cells": [
  {
   "cell_type": "markdown",
   "id": "abf4cdff",
   "metadata": {},
   "source": [
    "# Que es Node.js y para que sirve \n",
    "\n",
    "Node.js es un entorno de tiempo de ejecución de JavaScript (de ahí su terminación en .js haciendo alusión al lenguaje JavaScript). Este entorno de tiempo de ejecución en tiempo real incluye todo lo que se necesita para ejecutar un programa escrito en JavaScript. "
   ]
  }
 ],
 "metadata": {
  "language_info": {
   "name": "python"
  }
 },
 "nbformat": 4,
 "nbformat_minor": 5
}
