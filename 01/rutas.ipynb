{
 "cells": [
  {
   "cell_type": "markdown",
   "id": "c11e7ea8",
   "metadata": {},
   "source": [
    "\n",
    "#  Rutas HTTP en Node.js\n",
    "\n",
    "Las **rutas HTTP** son los caminos que utiliza un cliente (como un navegador o una app) para solicitar o enviar información a un servidor. Cada ruta está asociada a una **URL** y un **método HTTP**, como `GET`, `POST`, `PUT` o `DELETE`.\n",
    "\n",
    "\n",
    "\n",
    "## ¿Qué es una ruta HTTP?\n",
    "\n",
    "Una ruta HTTP combina una **dirección URL** con un **método HTTP** para definir una acción específica dentro del servidor.\n",
    "\n",
    "Por ejemplo:\n",
    "\n",
    "- `GET /usuarios` → Obtener la lista de usuarios\n",
    "- `POST /usuarios` → Crear un nuevo usuario\n",
    "- `GET /productos/5` → Obtener el producto con ID 5\n",
    "\n",
    "\n",
    "\n",
    "## ¿Para qué sirven las rutas HTTP?\n",
    "\n",
    "Las rutas permiten **organizar y controlar las funcionalidades del servidor**. Cada ruta representa un punto de entrada diferente para acceder a cierta funcionalidad o recurso del sistema.\n",
    "\n",
    "\n",
    "\n",
    "## ¿Por qué se usan las rutas HTTP?\n",
    "\n",
    "- Para estructurar las peticiones al servidor\n",
    "- Para responder adecuadamente a diferentes solicitudes (listar, crear, modificar, eliminar)\n",
    "- Para implementar el concepto de **API REST**, donde cada recurso se maneja con rutas estándar\n",
    "\n",
    "---\n",
    "\n",
    "##  Ejemplos comunes de rutas HTTP\n",
    "\n",
    "| Método | Ruta               | Descripción                           |\n",
    "|--------|--------------------|---------------------------------------|\n",
    "| GET    | `/`                | Página principal o mensaje de bienvenida |\n",
    "| GET    | `/usuarios`        | Listar todos los usuarios             |\n",
    "| GET    | `/usuarios/:id`    | Obtener un usuario por su ID          |\n",
    "| POST   | `/usuarios`        | Crear un nuevo usuario                |\n",
    "| PUT    | `/usuarios/:id`    | Actualizar información del usuario    |\n",
    "| DELETE | `/usuarios/:id`    | Eliminar un usuario                   |\n",
    "\n",
    "---\n",
    "\n",
    "##  Buenas prácticas al usar rutas\n",
    "\n",
    "- Usar nombres en plural para los recursos (`/productos`, `/usuarios`)\n",
    "- Organizar rutas por funcionalidad (grupo de recursos)\n",
    "- Validar los datos que llegan a cada ruta\n",
    "- Separar la lógica de las rutas en controladores\n",
    "\n",
    "---\n",
    "\n",
    "##  ¿Cómo se manejan las rutas en Node.js puro?\n",
    "\n",
    "En Node.js puro (sin frameworks), se analiza manualmente la URL (`req.url`) y el método (`req.method`) para responder según la ruta solicitada."
   ]
  },
  {
   "cell_type": "code",
   "execution_count": null,
   "id": "f5704a1c",
   "metadata": {},
   "outputs": [],
   "source": [
    "if (req.url === '/usuarios' && req.method === 'GET') {\n",
    "  // Lógica para listar usuarios\n",
    "}"
   ]
  }
 ],
 "metadata": {
  "language_info": {
   "name": "python"
  }
 },
 "nbformat": 4,
 "nbformat_minor": 5
}
