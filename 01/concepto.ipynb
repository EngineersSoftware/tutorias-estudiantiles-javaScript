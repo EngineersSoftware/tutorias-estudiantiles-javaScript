{
 "cells": [
  {
   "cell_type": "markdown",
   "id": "abf4cdff",
   "metadata": {},
   "source": [
    "#  ¿Qué es Node.js?\n",
    "\n",
    "**Node.js** es un entorno de ejecución de JavaScript del lado del servidor. Es decir, permite usar JavaScript fuera del navegador para crear aplicaciones backend, scripts de automatización, servidores, herramientas CLI, entre muchas otras cosas.\n",
    "\n",
    "Node.js es un entorno de tiempo de ejecución de JavaScript (de ahí su terminación en .js haciendo alusión al lenguaje JavaScript). Este entorno de tiempo de ejecución en tiempo real incluye todo lo que se necesita para ejecutar un programa escrito en JavaScript. \n",
    "\n",
    "Node.js fue creado por los desarrolladores originales de JavaScript. Lo transformaron de algo que solo podía ejecutarse en el navegador en algo que se podría ejecutar en los ordenadores como si de aplicaciones independientes se tratara. Gracias a Node.js se puede ir un paso más allá en la programación con JavaScript no solo creando sitios web interactivos, sino teniendo la capacidad de hacer cosas que otros lenguajes de secuencia de comandos como Python pueden crear. \n",
    "\n",
    "> Tanto JavaScript como Node.js se ejecutan en el motor de tiempo de ejecución JavaScript V8 (V8 es el nombre del motor de JavaScript que alimenta Google Chrome. Es lo que toma nuestro JavaScript y lo ejecuta mientras navega con Chrome). Este motor coge el código JavaScript y lo convierte en un código de máquina más rápido. El código de máquina es un código de nivel más bajo que la computadora puede ejecutar sin necesidad de interpretarlo primero, ignorando la compilación y por lo tanto aumentando su velocidad. \n",
    "\n",
    "\n",
    "\n",
    "###  Características principales:\n",
    "\n",
    "- **Asincrónico y no bloqueante:** Permite manejar múltiples operaciones a la vez sin detenerse.\n",
    "- **Basado en eventos:** Usa el event loop para gestionar tareas como IO, conexiones y procesos.\n",
    "- **Single-threaded (hilo único):** Pero muy eficiente para tareas de entrada/salida.\n",
    "- **Gran ecosistema:** Gracias a `npm`, cuenta con miles de paquetes reutilizables.\n",
    "\n",
    "\n",
    "\n",
    "###  ¿Para qué sirve Node.js?\n",
    "\n",
    "- Crear servidores web\n",
    "- Construir APIs REST\n",
    "- Desarrollar sistemas en tiempo real (chats, sockets)\n",
    "- Automatizar tareas con herramientas CLI\n",
    "- Servir archivos, consumir bases de datos, y más...\n",
    "\n",
    "\n",
    "\n",
    "###  ¿Qué no es?\n",
    "\n",
    "- No es un lenguaje de programación (es un entorno de ejecución)\n",
    "- No reemplaza por completo a lenguajes como Python o Java, pero es ideal para desarrollos rápidos y escalables\n",
    "\n",
    "\n",
    "\n",
    "\n",
    "\n",
    "\n",
    "\n"
   ]
  }
 ],
 "metadata": {
  "language_info": {
   "name": "python"
  }
 },
 "nbformat": 4,
 "nbformat_minor": 5
}
